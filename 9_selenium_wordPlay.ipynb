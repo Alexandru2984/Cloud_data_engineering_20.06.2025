{
 "cells": [
  {
   "cell_type": "code",
   "execution_count": 26,
   "metadata": {},
   "outputs": [],
   "source": [
    "from selenium import webdriver\n",
    "from selenium.webdriver.common.by import By\n",
    "from selenium.webdriver.common.keys import Keys\n",
    "import time"
   ]
  },
  {
   "cell_type": "code",
   "execution_count": 27,
   "metadata": {},
   "outputs": [],
   "source": [
    "URL = \"https://www.wordplay.com\"\n",
    "browser = webdriver.Chrome()\n",
    "browser.get(URL)\n",
    "time.sleep(6)\n"
   ]
  },
  {
   "cell_type": "code",
   "execution_count": 28,
   "metadata": {},
   "outputs": [],
   "source": [
    "cuvant_1 = \"audio\"\n",
    "for ch in cuvant_1:\n",
    "    browser.find_element(By.XPATH, \"/html/body\").send_keys(ch)\n",
    "    time.sleep(1)\n",
    "browser.find_element(By.XPATH, \"/html/body\").send_keys(Keys.ENTER)\n",
    "time.sleep(6)"
   ]
  },
  {
   "cell_type": "code",
   "execution_count": 29,
   "metadata": {},
   "outputs": [],
   "source": [
    "cuvant_2 = \"stern\"\n",
    "for ch in cuvant_2:\n",
    "    browser.find_element(By.XPATH, \"/html/body\").send_keys(ch)\n",
    "    time.sleep(1)\n",
    "browser.find_element(By.XPATH, \"/html/body\").send_keys(Keys.ENTER)\n",
    "time.sleep(6)"
   ]
  },
  {
   "cell_type": "code",
   "execution_count": 30,
   "metadata": {},
   "outputs": [],
   "source": [
    "cuvant_3 = \"glyph\"\n",
    "for ch in cuvant_3:\n",
    "    browser.find_element(By.XPATH, \"/html/body\").send_keys(ch)\n",
    "    time.sleep(1)\n",
    "browser.find_element(By.XPATH, \"/html/body\").send_keys(Keys.ENTER)"
   ]
  }
 ],
 "metadata": {
  "kernelspec": {
   "display_name": "Python 3",
   "language": "python",
   "name": "python3"
  },
  "language_info": {
   "codemirror_mode": {
    "name": "ipython",
    "version": 3
   },
   "file_extension": ".py",
   "mimetype": "text/x-python",
   "name": "python",
   "nbconvert_exporter": "python",
   "pygments_lexer": "ipython3",
   "version": "3.13.3"
  }
 },
 "nbformat": 4,
 "nbformat_minor": 2
}
