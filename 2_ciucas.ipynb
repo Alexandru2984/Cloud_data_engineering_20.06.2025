{
 "cells": [
  {
   "cell_type": "code",
   "execution_count": 17,
   "metadata": {},
   "outputs": [],
   "source": [
    "from selenium import webdriver\n",
    "from selenium.webdriver.common.by import By"
   ]
  },
  {
   "cell_type": "code",
   "execution_count": 18,
   "metadata": {},
   "outputs": [],
   "source": [
    "URL = \"https://www.bereciucas.ro/\"\n",
    "browser = webdriver.Chrome()\n",
    "browser.get(URL)"
   ]
  },
  {
   "cell_type": "code",
   "execution_count": 19,
   "metadata": {},
   "outputs": [],
   "source": [
    "cookie_id = \"CybotCookiebotDialogBodyLevelButtonLevelOptinAllowAll\"\n",
    "cookie_button = browser.find_element(By.ID, cookie_id)\n",
    "cookie_button.click()"
   ]
  },
  {
   "cell_type": "code",
   "execution_count": 22,
   "metadata": {},
   "outputs": [
    {
     "ename": "IndexError",
     "evalue": "list index out of range",
     "output_type": "error",
     "traceback": [
      "\u001b[31m---------------------------------------------------------------------------\u001b[39m",
      "\u001b[31mIndexError\u001b[39m                                Traceback (most recent call last)",
      "\u001b[36mCell\u001b[39m\u001b[36m \u001b[39m\u001b[32mIn[22]\u001b[39m\u001b[32m, line 4\u001b[39m\n\u001b[32m      2\u001b[39m input1_name = \u001b[33m\"\u001b[39m\u001b[33myear_1\u001b[39m\u001b[33m\"\u001b[39m\n\u001b[32m      3\u001b[39m input_1 = browser.find_elements(By.NAME, input1_name)\n\u001b[32m----> \u001b[39m\u001b[32m4\u001b[39m \u001b[43minput_1\u001b[49m\u001b[43m[\u001b[49m\u001b[32;43m0\u001b[39;49m\u001b[43m]\u001b[49m.send_keys(\u001b[33m\"\u001b[39m\u001b[33m2\u001b[39m\u001b[33m\"\u001b[39m)\n\u001b[32m      6\u001b[39m input2_name = \u001b[33m\"\u001b[39m\u001b[33myear_2\u001b[39m\u001b[33m\"\u001b[39m\n\u001b[32m      7\u001b[39m input_2 = browser.find_elements(By.NAME, input2_name)\n",
      "\u001b[31mIndexError\u001b[39m: list index out of range"
     ]
    }
   ],
   "source": [
    "# Prima varianta\n",
    "\n",
    "input_1_class = \"year_1 year-char\"\n",
    "input1_name = \"year_1\"\n",
    "input_1 = browser.find_elements(By.NAME, input1_name)\n",
    "input_1[0].send_keys(\"2\")\n",
    "\n",
    "input2_name = \"year_2\"\n",
    "input_2 = browser.find_elements(By.NAME, input2_name)\n",
    "input_2[0].send_keys(\"0\")\n",
    "\n",
    "input3_name = \"year_3\"\n",
    "input_3 = browser.find_elements(By.NAME, input3_name)\n",
    "input_3[0].send_keys(\"0\")\n",
    "\n",
    "input4_name = \"year_4\"\n",
    "input_4 = browser.find_elements(By.NAME, input4_name)\n",
    "input_4[0].send_keys(\"0\")\n"
   ]
  },
  {
   "cell_type": "code",
   "execution_count": 21,
   "metadata": {},
   "outputs": [],
   "source": [
    "# A doua varianta\n",
    "years = {\n",
    "    \"year_1\": \"2\",\n",
    "    \"year_2\": \"0\",\n",
    "    \"year_3\": \"0\",\n",
    "    \"year_4\": \"0\"\n",
    "}\n",
    "\n",
    "for name, value in years.items():\n",
    "    input_field = browser.find_elements(By.NAME, name)\n",
    "    if input_field:\n",
    "        input_field[0].send_keys(value)\n"
   ]
  },
  {
   "cell_type": "code",
   "execution_count": null,
   "metadata": {},
   "outputs": [],
   "source": [
    "# A treia varianta\n",
    "values = [\"2\", \"0\", \"0\", \"0\"]  \n",
    "\n",
    "for i in range(1, 5): \n",
    "    input_name = f\"year_{i}\"\n",
    "    input_field = browser.find_elements(By.NAME, input_name)\n",
    "    if input_field:\n",
    "        input_field[0].send_keys(values[i - 1])\n"
   ]
  },
  {
   "cell_type": "code",
   "execution_count": null,
   "metadata": {},
   "outputs": [],
   "source": [
    "browser.quit()"
   ]
  }
 ],
 "metadata": {
  "kernelspec": {
   "display_name": "Python 3",
   "language": "python",
   "name": "python3"
  },
  "language_info": {
   "codemirror_mode": {
    "name": "ipython",
    "version": 3
   },
   "file_extension": ".py",
   "mimetype": "text/x-python",
   "name": "python",
   "nbconvert_exporter": "python",
   "pygments_lexer": "ipython3",
   "version": "3.13.3"
  }
 },
 "nbformat": 4,
 "nbformat_minor": 2
}
