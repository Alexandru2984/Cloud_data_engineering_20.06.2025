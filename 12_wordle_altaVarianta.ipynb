{
 "cells": [
  {
   "cell_type": "code",
   "execution_count": 2,
   "metadata": {},
   "outputs": [],
   "source": [
    "from selenium import webdriver\n",
    "from selenium.webdriver.common.by import By\n",
    "import time\n",
    "\n",
    "URL = \"https://www.wordplay.com\"\n",
    "browser = webdriver.Chrome()\n",
    "browser.get(URL)\n",
    "time.sleep(6)\n",
    "\n",
    "# Tastatura reală (fără spații greșite)\n",
    "TASTATURA = [\"qwertyuiop\", \"asdfghjkl\", \"zxcvbnm\"]\n",
    "\n",
    "# Returnează rând și coloană (pentru XPATH)\n",
    "def rand_linie(litera):\n",
    "    litera = litera.lower()\n",
    "    for row_index, rand in enumerate(TASTATURA):\n",
    "        if litera in rand:\n",
    "            return (row_index + 1, rand.index(litera) + 1)\n",
    "    return None\n",
    "\n",
    "# Generează XPATH-ul pentru o literă\n",
    "def xpath_pt(litera):\n",
    "    poz = rand_linie(litera)\n",
    "    if poz:\n",
    "        rand, coloana = poz\n",
    "        return f'//*[@id=\"__next\"]/div[1]/div[1]/div/div[2]/div/div/div[{rand}]/button[{coloana}]'\n",
    "    return None\n",
    "\n",
    "# ENTER este ultimul buton din div[3]\n",
    "def press_enter():\n",
    "    buttons = browser.find_elements(By.XPATH, '//button')\n",
    "    for btn in buttons:\n",
    "        if btn.get_attribute(\"aria-label\") == \"Enter\":\n",
    "            btn.click()\n",
    "            return\n",
    "\n",
    "\n",
    "# Testare cu 3 cuvinte\n",
    "cuvinte = [\"audio\", \"stern\", \"glyph\"]\n",
    "\n",
    "for cuv in cuvinte:\n",
    "    for litera in cuv:\n",
    "        xpath = xpath_pt(litera)\n",
    "        if xpath:\n",
    "            browser.find_element(By.XPATH, xpath).click()\n",
    "            time.sleep(0.25)\n",
    "    press_enter()\n",
    "    time.sleep(2)\n"
   ]
  }
 ],
 "metadata": {
  "kernelspec": {
   "display_name": "Python 3",
   "language": "python",
   "name": "python3"
  },
  "language_info": {
   "codemirror_mode": {
    "name": "ipython",
    "version": 3
   },
   "file_extension": ".py",
   "mimetype": "text/x-python",
   "name": "python",
   "nbconvert_exporter": "python",
   "pygments_lexer": "ipython3",
   "version": "3.13.3"
  }
 },
 "nbformat": 4,
 "nbformat_minor": 2
}
