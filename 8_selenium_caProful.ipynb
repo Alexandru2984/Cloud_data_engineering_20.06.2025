{
 "cells": [
  {
   "cell_type": "code",
   "execution_count": 11,
   "metadata": {},
   "outputs": [],
   "source": [
    "from selenium import webdriver\n",
    "from selenium.webdriver.common.by import By\n",
    "import time"
   ]
  },
  {
   "cell_type": "code",
   "execution_count": 2,
   "metadata": {},
   "outputs": [],
   "source": [
    "URL = \"https://icanhazdadjoke.com/\"\n",
    "browser = webdriver.Chrome()\n",
    "browser.get(URL)"
   ]
  },
  {
   "cell_type": "code",
   "execution_count": 3,
   "metadata": {},
   "outputs": [],
   "source": [
    "try:\n",
    "    COOKIE_BUTTON_CLASS = \"fc-cta-consent\"\n",
    "    COOKIE_BUTTON = browser.find_elements(By.CLASS_NAME, COOKIE_BUTTON_CLASS)\n",
    "    COOKIE_BUTTON[0].click()\n",
    "except:\n",
    "    pass"
   ]
  },
  {
   "cell_type": "code",
   "execution_count": 4,
   "metadata": {},
   "outputs": [
    {
     "data": {
      "text/plain": [
       "2"
      ]
     },
     "execution_count": 4,
     "metadata": {},
     "output_type": "execute_result"
    }
   ],
   "source": [
    "len(browser.find_elements(By.CLASS_NAME, \"subtitle\"))"
   ]
  },
  {
   "cell_type": "code",
   "execution_count": 15,
   "metadata": {},
   "outputs": [
    {
     "ename": "NoSuchElementException",
     "evalue": "Message: no such element: Unable to locate element: {\"method\":\"xpath\",\"selector\":\"/html/body/section/div/div[3]/div/div/p\"}\n  (Session info: chrome=137.0.7151.119); For documentation on this error, please visit: https://www.selenium.dev/documentation/webdriver/troubleshooting/errors#no-such-element-exception\nStacktrace:\n\tGetHandleVerifier [0x0x7ff66b19cda5+78885]\n\tGetHandleVerifier [0x0x7ff66b19ce00+78976]\n\t(No symbol) [0x0x7ff66af59bca]\n\t(No symbol) [0x0x7ff66afb0766]\n\t(No symbol) [0x0x7ff66afb0a1c]\n\t(No symbol) [0x0x7ff66b004467]\n\t(No symbol) [0x0x7ff66afd8bcf]\n\t(No symbol) [0x0x7ff66b00122f]\n\t(No symbol) [0x0x7ff66afd8963]\n\t(No symbol) [0x0x7ff66afa16b1]\n\t(No symbol) [0x0x7ff66afa2443]\n\tGetHandleVerifier [0x0x7ff66b474eed+3061101]\n\tGetHandleVerifier [0x0x7ff66b46f33d+3037629]\n\tGetHandleVerifier [0x0x7ff66b48e592+3165202]\n\tGetHandleVerifier [0x0x7ff66b1b730e+186766]\n\tGetHandleVerifier [0x0x7ff66b1beb3f+217535]\n\tGetHandleVerifier [0x0x7ff66b1a59b4+114740]\n\tGetHandleVerifier [0x0x7ff66b1a5b69+115177]\n\tGetHandleVerifier [0x0x7ff66b18c368+10728]\n\tBaseThreadInitThunk [0x0x7ffa2f97e8d7+23]\n\tRtlUserThreadStart [0x0x7ffa3163c34c+44]\n",
     "output_type": "error",
     "traceback": [
      "\u001b[31m---------------------------------------------------------------------------\u001b[39m",
      "\u001b[31mNoSuchElementException\u001b[39m                    Traceback (most recent call last)",
      "\u001b[36mCell\u001b[39m\u001b[36m \u001b[39m\u001b[32mIn[15]\u001b[39m\u001b[32m, line 3\u001b[39m\n\u001b[32m      1\u001b[39m XPATH = \u001b[33m\"\"\"\u001b[39m\u001b[33m/html/body/section/div/div[3]/div/div/p\u001b[39m\u001b[33m\"\"\"\u001b[39m\n\u001b[32m      2\u001b[39m \u001b[38;5;28;01mfor\u001b[39;00m i \u001b[38;5;129;01min\u001b[39;00m \u001b[38;5;28mrange\u001b[39m(\u001b[32m3\u001b[39m):\n\u001b[32m----> \u001b[39m\u001b[32m3\u001b[39m     joke_text = \u001b[43mbrowser\u001b[49m\u001b[43m.\u001b[49m\u001b[43mfind_element\u001b[49m\u001b[43m(\u001b[49m\u001b[43mBy\u001b[49m\u001b[43m.\u001b[49m\u001b[43mXPATH\u001b[49m\u001b[43m,\u001b[49m\u001b[43m \u001b[49m\u001b[43mXPATH\u001b[49m\u001b[43m)\u001b[49m.text\n\u001b[32m      5\u001b[39m     \u001b[38;5;28;01mwith\u001b[39;00m \u001b[38;5;28mopen\u001b[39m(\u001b[33m\"\u001b[39m\u001b[33mjokes_v3.txt\u001b[39m\u001b[33m\"\u001b[39m, \u001b[33m\"\u001b[39m\u001b[33ma\u001b[39m\u001b[33m\"\u001b[39m, encoding=\u001b[33m\"\u001b[39m\u001b[33mutf-8\u001b[39m\u001b[33m\"\u001b[39m) \u001b[38;5;28;01mas\u001b[39;00m fwriter:\n\u001b[32m      6\u001b[39m         fwriter.write(\u001b[33m\"\u001b[39m\u001b[38;5;130;01m\\n\u001b[39;00m\u001b[33m\"\u001b[39m)\n",
      "\u001b[36mFile \u001b[39m\u001b[32m~\\AppData\\Roaming\\Python\\Python313\\site-packages\\selenium\\webdriver\\remote\\webdriver.py:914\u001b[39m, in \u001b[36mWebDriver.find_element\u001b[39m\u001b[34m(self, by, value)\u001b[39m\n\u001b[32m    911\u001b[39m         \u001b[38;5;28;01mraise\u001b[39;00m NoSuchElementException(\u001b[33mf\u001b[39m\u001b[33m\"\u001b[39m\u001b[33mCannot locate relative element with: \u001b[39m\u001b[38;5;132;01m{\u001b[39;00mby.root\u001b[38;5;132;01m}\u001b[39;00m\u001b[33m\"\u001b[39m)\n\u001b[32m    912\u001b[39m     \u001b[38;5;28;01mreturn\u001b[39;00m elements[\u001b[32m0\u001b[39m]\n\u001b[32m--> \u001b[39m\u001b[32m914\u001b[39m \u001b[38;5;28;01mreturn\u001b[39;00m \u001b[38;5;28;43mself\u001b[39;49m\u001b[43m.\u001b[49m\u001b[43mexecute\u001b[49m\u001b[43m(\u001b[49m\u001b[43mCommand\u001b[49m\u001b[43m.\u001b[49m\u001b[43mFIND_ELEMENT\u001b[49m\u001b[43m,\u001b[49m\u001b[43m \u001b[49m\u001b[43m{\u001b[49m\u001b[33;43m\"\u001b[39;49m\u001b[33;43musing\u001b[39;49m\u001b[33;43m\"\u001b[39;49m\u001b[43m:\u001b[49m\u001b[43m \u001b[49m\u001b[43mby\u001b[49m\u001b[43m,\u001b[49m\u001b[43m \u001b[49m\u001b[33;43m\"\u001b[39;49m\u001b[33;43mvalue\u001b[39;49m\u001b[33;43m\"\u001b[39;49m\u001b[43m:\u001b[49m\u001b[43m \u001b[49m\u001b[43mvalue\u001b[49m\u001b[43m}\u001b[49m\u001b[43m)\u001b[49m[\u001b[33m\"\u001b[39m\u001b[33mvalue\u001b[39m\u001b[33m\"\u001b[39m]\n",
      "\u001b[36mFile \u001b[39m\u001b[32m~\\AppData\\Roaming\\Python\\Python313\\site-packages\\selenium\\webdriver\\remote\\webdriver.py:447\u001b[39m, in \u001b[36mWebDriver.execute\u001b[39m\u001b[34m(self, driver_command, params)\u001b[39m\n\u001b[32m    445\u001b[39m response = \u001b[38;5;28mself\u001b[39m.command_executor.execute(driver_command, params)\n\u001b[32m    446\u001b[39m \u001b[38;5;28;01mif\u001b[39;00m response:\n\u001b[32m--> \u001b[39m\u001b[32m447\u001b[39m     \u001b[38;5;28;43mself\u001b[39;49m\u001b[43m.\u001b[49m\u001b[43merror_handler\u001b[49m\u001b[43m.\u001b[49m\u001b[43mcheck_response\u001b[49m\u001b[43m(\u001b[49m\u001b[43mresponse\u001b[49m\u001b[43m)\u001b[49m\n\u001b[32m    448\u001b[39m     response[\u001b[33m\"\u001b[39m\u001b[33mvalue\u001b[39m\u001b[33m\"\u001b[39m] = \u001b[38;5;28mself\u001b[39m._unwrap_value(response.get(\u001b[33m\"\u001b[39m\u001b[33mvalue\u001b[39m\u001b[33m\"\u001b[39m, \u001b[38;5;28;01mNone\u001b[39;00m))\n\u001b[32m    449\u001b[39m     \u001b[38;5;28;01mreturn\u001b[39;00m response\n",
      "\u001b[36mFile \u001b[39m\u001b[32m~\\AppData\\Roaming\\Python\\Python313\\site-packages\\selenium\\webdriver\\remote\\errorhandler.py:232\u001b[39m, in \u001b[36mErrorHandler.check_response\u001b[39m\u001b[34m(self, response)\u001b[39m\n\u001b[32m    230\u001b[39m         alert_text = value[\u001b[33m\"\u001b[39m\u001b[33malert\u001b[39m\u001b[33m\"\u001b[39m].get(\u001b[33m\"\u001b[39m\u001b[33mtext\u001b[39m\u001b[33m\"\u001b[39m)\n\u001b[32m    231\u001b[39m     \u001b[38;5;28;01mraise\u001b[39;00m exception_class(message, screen, stacktrace, alert_text)  \u001b[38;5;66;03m# type: ignore[call-arg]  # mypy is not smart enough here\u001b[39;00m\n\u001b[32m--> \u001b[39m\u001b[32m232\u001b[39m \u001b[38;5;28;01mraise\u001b[39;00m exception_class(message, screen, stacktrace)\n",
      "\u001b[31mNoSuchElementException\u001b[39m: Message: no such element: Unable to locate element: {\"method\":\"xpath\",\"selector\":\"/html/body/section/div/div[3]/div/div/p\"}\n  (Session info: chrome=137.0.7151.119); For documentation on this error, please visit: https://www.selenium.dev/documentation/webdriver/troubleshooting/errors#no-such-element-exception\nStacktrace:\n\tGetHandleVerifier [0x0x7ff66b19cda5+78885]\n\tGetHandleVerifier [0x0x7ff66b19ce00+78976]\n\t(No symbol) [0x0x7ff66af59bca]\n\t(No symbol) [0x0x7ff66afb0766]\n\t(No symbol) [0x0x7ff66afb0a1c]\n\t(No symbol) [0x0x7ff66b004467]\n\t(No symbol) [0x0x7ff66afd8bcf]\n\t(No symbol) [0x0x7ff66b00122f]\n\t(No symbol) [0x0x7ff66afd8963]\n\t(No symbol) [0x0x7ff66afa16b1]\n\t(No symbol) [0x0x7ff66afa2443]\n\tGetHandleVerifier [0x0x7ff66b474eed+3061101]\n\tGetHandleVerifier [0x0x7ff66b46f33d+3037629]\n\tGetHandleVerifier [0x0x7ff66b48e592+3165202]\n\tGetHandleVerifier [0x0x7ff66b1b730e+186766]\n\tGetHandleVerifier [0x0x7ff66b1beb3f+217535]\n\tGetHandleVerifier [0x0x7ff66b1a59b4+114740]\n\tGetHandleVerifier [0x0x7ff66b1a5b69+115177]\n\tGetHandleVerifier [0x0x7ff66b18c368+10728]\n\tBaseThreadInitThunk [0x0x7ffa2f97e8d7+23]\n\tRtlUserThreadStart [0x0x7ffa3163c34c+44]\n"
     ]
    }
   ],
   "source": [
    "XPATH = \"\"\"/html/body/section/div/div[3]/div/div/p\"\"\"\n",
    "for i in range(3):\n",
    "    joke_text = browser.find_element(By.XPATH, XPATH).text\n",
    "\n",
    "    with open(\"jokes_v3.txt\", \"a\", encoding=\"utf-8\") as fwriter:\n",
    "        fwriter.write(\"\\n\")\n",
    "        fwriter.write(joke_text)\n",
    "    time.sleep(2)\n",
    "    browser.find_element(By.CSS_SELECTOR, \".button.is-primary.level-item\").click()"
   ]
  },
  {
   "cell_type": "code",
   "execution_count": 7,
   "metadata": {},
   "outputs": [],
   "source": []
  }
 ],
 "metadata": {
  "kernelspec": {
   "display_name": "Python 3",
   "language": "python",
   "name": "python3"
  },
  "language_info": {
   "codemirror_mode": {
    "name": "ipython",
    "version": 3
   },
   "file_extension": ".py",
   "mimetype": "text/x-python",
   "name": "python",
   "nbconvert_exporter": "python",
   "pygments_lexer": "ipython3",
   "version": "3.13.3"
  }
 },
 "nbformat": 4,
 "nbformat_minor": 2
}
