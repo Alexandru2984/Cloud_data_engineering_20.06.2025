{
 "cells": [
  {
   "cell_type": "code",
   "execution_count": 2,
   "metadata": {},
   "outputs": [],
   "source": [
    "from selenium import webdriver\n",
    "from selenium.webdriver.common.by import By\n",
    "from selenium.webdriver.common.keys import Keys\n",
    "import time\n",
    "\n",
    "URL = \"https://www.wordplay.com\"\n",
    "browser = webdriver.Chrome()\n",
    "browser.get(URL)\n",
    "time.sleep(6)\n"
   ]
  },
  {
   "cell_type": "code",
   "execution_count": 3,
   "metadata": {},
   "outputs": [],
   "source": [
    "rand = 2\n",
    "linia = 4\n",
    "XPATH_GENERIC = f'//*[@id=\"__next\"]/div[1]/div[1]/div/div[2]/div/div/div[{rand}]/button[{linia}]'\n",
    "XPATH_Q = '//*[@id=\"__next\"]/div[1]/div[1]/div/div[2]/div/div/div[1]/button[1]'\n",
    "XPATH_A = '//*[@id=\"__next\"]/div[1]/div[1]/div/div[2]/div/div/div[2]/button[1]'\n",
    "XPATH_S = '//*[@id=\"__next\"]/div[1]/div[1]/div/div[2]/div/div/div[2]/button[2]'"
   ]
  },
  {
   "cell_type": "code",
   "execution_count": 13,
   "metadata": {},
   "outputs": [],
   "source": [
    "TASTATURA = [\"qwertyuiop\", \"asdfghjkl\", \" zxcvbnm\"]\n",
    "\n",
    "def rand_linie(litera):\n",
    "    for count, rand in enumerate(TASTATURA):\n",
    "        if litera in rand:\n",
    "            r = count\n",
    "            l = rand.index(litera)\n",
    "            return (r+1,l+1)\n",
    "\n",
    "def xpath_pt(litera):\n",
    "    rand, linia = rand_linie(litera)\n",
    "    return f'//*[@id=\"__next\"]/div[1]/div[1]/div/div[2]/div/div/div[{rand}]/button[{linia}]'\n",
    "\n",
    "def press_enter():\n",
    "    ENTER = f'//*[@id=\"__next\"]/div[1]/div[1]/div/div[2]/div/div/div[3]/button[1]'\n",
    "    browser.find_element(By.XPATH, ENTER).click()"
   ]
  },
  {
   "cell_type": "code",
   "execution_count": 15,
   "metadata": {},
   "outputs": [
    {
     "ename": "NoSuchElementException",
     "evalue": "Message: no such element: Unable to locate element: {\"method\":\"xpath\",\"selector\":\"//*[@id=\"__next\"]/div[1]/div[1]/div/div[2]/div/div/div[2]/button[5]\"}\n  (Session info: chrome=137.0.7151.119); For documentation on this error, please visit: https://www.selenium.dev/documentation/webdriver/troubleshooting/errors#no-such-element-exception\nStacktrace:\n\tGetHandleVerifier [0x0x7ff66b19cda5+78885]\n\tGetHandleVerifier [0x0x7ff66b19ce00+78976]\n\t(No symbol) [0x0x7ff66af59bca]\n\t(No symbol) [0x0x7ff66afb0766]\n\t(No symbol) [0x0x7ff66afb0a1c]\n\t(No symbol) [0x0x7ff66b004467]\n\t(No symbol) [0x0x7ff66afd8bcf]\n\t(No symbol) [0x0x7ff66b00122f]\n\t(No symbol) [0x0x7ff66afd8963]\n\t(No symbol) [0x0x7ff66afa16b1]\n\t(No symbol) [0x0x7ff66afa2443]\n\tGetHandleVerifier [0x0x7ff66b474eed+3061101]\n\tGetHandleVerifier [0x0x7ff66b46f33d+3037629]\n\tGetHandleVerifier [0x0x7ff66b48e592+3165202]\n\tGetHandleVerifier [0x0x7ff66b1b730e+186766]\n\tGetHandleVerifier [0x0x7ff66b1beb3f+217535]\n\tGetHandleVerifier [0x0x7ff66b1a59b4+114740]\n\tGetHandleVerifier [0x0x7ff66b1a5b69+115177]\n\tGetHandleVerifier [0x0x7ff66b18c368+10728]\n\tBaseThreadInitThunk [0x0x7ffa2f97e8d7+23]\n\tRtlUserThreadStart [0x0x7ffa3163c34c+44]\n",
     "output_type": "error",
     "traceback": [
      "\u001b[31m---------------------------------------------------------------------------\u001b[39m",
      "\u001b[31mNoSuchElementException\u001b[39m                    Traceback (most recent call last)",
      "\u001b[36mCell\u001b[39m\u001b[36m \u001b[39m\u001b[32mIn[15]\u001b[39m\u001b[32m, line 5\u001b[39m\n\u001b[32m      3\u001b[39m \u001b[38;5;28;01mfor\u001b[39;00m cuv \u001b[38;5;129;01min\u001b[39;00m cuvinte:\n\u001b[32m      4\u001b[39m     \u001b[38;5;28;01mfor\u001b[39;00m ch \u001b[38;5;129;01min\u001b[39;00m cuv:\n\u001b[32m----> \u001b[39m\u001b[32m5\u001b[39m         \u001b[43mbrowser\u001b[49m\u001b[43m.\u001b[49m\u001b[43mfind_element\u001b[49m\u001b[43m(\u001b[49m\u001b[43mBy\u001b[49m\u001b[43m.\u001b[49m\u001b[43mXPATH\u001b[49m\u001b[43m,\u001b[49m\u001b[43m \u001b[49m\u001b[43mxpath_pt\u001b[49m\u001b[43m(\u001b[49m\u001b[43mch\u001b[49m\u001b[43m)\u001b[49m\u001b[43m)\u001b[49m.click()\n\u001b[32m      6\u001b[39m     press_enter()\n",
      "\u001b[36mFile \u001b[39m\u001b[32m~\\AppData\\Roaming\\Python\\Python313\\site-packages\\selenium\\webdriver\\remote\\webdriver.py:914\u001b[39m, in \u001b[36mWebDriver.find_element\u001b[39m\u001b[34m(self, by, value)\u001b[39m\n\u001b[32m    911\u001b[39m         \u001b[38;5;28;01mraise\u001b[39;00m NoSuchElementException(\u001b[33mf\u001b[39m\u001b[33m\"\u001b[39m\u001b[33mCannot locate relative element with: \u001b[39m\u001b[38;5;132;01m{\u001b[39;00mby.root\u001b[38;5;132;01m}\u001b[39;00m\u001b[33m\"\u001b[39m)\n\u001b[32m    912\u001b[39m     \u001b[38;5;28;01mreturn\u001b[39;00m elements[\u001b[32m0\u001b[39m]\n\u001b[32m--> \u001b[39m\u001b[32m914\u001b[39m \u001b[38;5;28;01mreturn\u001b[39;00m \u001b[38;5;28;43mself\u001b[39;49m\u001b[43m.\u001b[49m\u001b[43mexecute\u001b[49m\u001b[43m(\u001b[49m\u001b[43mCommand\u001b[49m\u001b[43m.\u001b[49m\u001b[43mFIND_ELEMENT\u001b[49m\u001b[43m,\u001b[49m\u001b[43m \u001b[49m\u001b[43m{\u001b[49m\u001b[33;43m\"\u001b[39;49m\u001b[33;43musing\u001b[39;49m\u001b[33;43m\"\u001b[39;49m\u001b[43m:\u001b[49m\u001b[43m \u001b[49m\u001b[43mby\u001b[49m\u001b[43m,\u001b[49m\u001b[43m \u001b[49m\u001b[33;43m\"\u001b[39;49m\u001b[33;43mvalue\u001b[39;49m\u001b[33;43m\"\u001b[39;49m\u001b[43m:\u001b[49m\u001b[43m \u001b[49m\u001b[43mvalue\u001b[49m\u001b[43m}\u001b[49m\u001b[43m)\u001b[49m[\u001b[33m\"\u001b[39m\u001b[33mvalue\u001b[39m\u001b[33m\"\u001b[39m]\n",
      "\u001b[36mFile \u001b[39m\u001b[32m~\\AppData\\Roaming\\Python\\Python313\\site-packages\\selenium\\webdriver\\remote\\webdriver.py:447\u001b[39m, in \u001b[36mWebDriver.execute\u001b[39m\u001b[34m(self, driver_command, params)\u001b[39m\n\u001b[32m    445\u001b[39m response = \u001b[38;5;28mself\u001b[39m.command_executor.execute(driver_command, params)\n\u001b[32m    446\u001b[39m \u001b[38;5;28;01mif\u001b[39;00m response:\n\u001b[32m--> \u001b[39m\u001b[32m447\u001b[39m     \u001b[38;5;28;43mself\u001b[39;49m\u001b[43m.\u001b[49m\u001b[43merror_handler\u001b[49m\u001b[43m.\u001b[49m\u001b[43mcheck_response\u001b[49m\u001b[43m(\u001b[49m\u001b[43mresponse\u001b[49m\u001b[43m)\u001b[49m\n\u001b[32m    448\u001b[39m     response[\u001b[33m\"\u001b[39m\u001b[33mvalue\u001b[39m\u001b[33m\"\u001b[39m] = \u001b[38;5;28mself\u001b[39m._unwrap_value(response.get(\u001b[33m\"\u001b[39m\u001b[33mvalue\u001b[39m\u001b[33m\"\u001b[39m, \u001b[38;5;28;01mNone\u001b[39;00m))\n\u001b[32m    449\u001b[39m     \u001b[38;5;28;01mreturn\u001b[39;00m response\n",
      "\u001b[36mFile \u001b[39m\u001b[32m~\\AppData\\Roaming\\Python\\Python313\\site-packages\\selenium\\webdriver\\remote\\errorhandler.py:232\u001b[39m, in \u001b[36mErrorHandler.check_response\u001b[39m\u001b[34m(self, response)\u001b[39m\n\u001b[32m    230\u001b[39m         alert_text = value[\u001b[33m\"\u001b[39m\u001b[33malert\u001b[39m\u001b[33m\"\u001b[39m].get(\u001b[33m\"\u001b[39m\u001b[33mtext\u001b[39m\u001b[33m\"\u001b[39m)\n\u001b[32m    231\u001b[39m     \u001b[38;5;28;01mraise\u001b[39;00m exception_class(message, screen, stacktrace, alert_text)  \u001b[38;5;66;03m# type: ignore[call-arg]  # mypy is not smart enough here\u001b[39;00m\n\u001b[32m--> \u001b[39m\u001b[32m232\u001b[39m \u001b[38;5;28;01mraise\u001b[39;00m exception_class(message, screen, stacktrace)\n",
      "\u001b[31mNoSuchElementException\u001b[39m: Message: no such element: Unable to locate element: {\"method\":\"xpath\",\"selector\":\"//*[@id=\"__next\"]/div[1]/div[1]/div/div[2]/div/div/div[2]/button[5]\"}\n  (Session info: chrome=137.0.7151.119); For documentation on this error, please visit: https://www.selenium.dev/documentation/webdriver/troubleshooting/errors#no-such-element-exception\nStacktrace:\n\tGetHandleVerifier [0x0x7ff66b19cda5+78885]\n\tGetHandleVerifier [0x0x7ff66b19ce00+78976]\n\t(No symbol) [0x0x7ff66af59bca]\n\t(No symbol) [0x0x7ff66afb0766]\n\t(No symbol) [0x0x7ff66afb0a1c]\n\t(No symbol) [0x0x7ff66b004467]\n\t(No symbol) [0x0x7ff66afd8bcf]\n\t(No symbol) [0x0x7ff66b00122f]\n\t(No symbol) [0x0x7ff66afd8963]\n\t(No symbol) [0x0x7ff66afa16b1]\n\t(No symbol) [0x0x7ff66afa2443]\n\tGetHandleVerifier [0x0x7ff66b474eed+3061101]\n\tGetHandleVerifier [0x0x7ff66b46f33d+3037629]\n\tGetHandleVerifier [0x0x7ff66b48e592+3165202]\n\tGetHandleVerifier [0x0x7ff66b1b730e+186766]\n\tGetHandleVerifier [0x0x7ff66b1beb3f+217535]\n\tGetHandleVerifier [0x0x7ff66b1a59b4+114740]\n\tGetHandleVerifier [0x0x7ff66b1a5b69+115177]\n\tGetHandleVerifier [0x0x7ff66b18c368+10728]\n\tBaseThreadInitThunk [0x0x7ffa2f97e8d7+23]\n\tRtlUserThreadStart [0x0x7ffa3163c34c+44]\n"
     ]
    }
   ],
   "source": [
    "time.sleep(2)\n",
    "cuvinte = [\"audio\", \"stern\", \"glyph\"]\n",
    "for cuv in cuvinte:\n",
    "    for ch in cuv:\n",
    "        browser.find_element(By.XPATH, xpath_pt(ch)).click()\n",
    "    press_enter()"
   ]
  }
 ],
 "metadata": {
  "kernelspec": {
   "display_name": "Python 3",
   "language": "python",
   "name": "python3"
  },
  "language_info": {
   "codemirror_mode": {
    "name": "ipython",
    "version": 3
   },
   "file_extension": ".py",
   "mimetype": "text/x-python",
   "name": "python",
   "nbconvert_exporter": "python",
   "pygments_lexer": "ipython3",
   "version": "3.13.3"
  }
 },
 "nbformat": 4,
 "nbformat_minor": 2
}
