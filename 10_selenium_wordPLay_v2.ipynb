{
 "cells": [
  {
   "cell_type": "code",
   "execution_count": 1,
   "metadata": {},
   "outputs": [],
   "source": [
    "from selenium import webdriver\n",
    "from selenium.webdriver.common.by import By\n",
    "from selenium.webdriver.common.keys import Keys\n",
    "import time\n",
    "\n",
    "URL = \"https://www.wordplay.com\"\n",
    "browser = webdriver.Chrome()\n",
    "browser.get(URL)\n",
    "time.sleep(6)\n",
    "\n"
   ]
  },
  {
   "cell_type": "code",
   "execution_count": null,
   "metadata": {},
   "outputs": [],
   "source": [
    "def trimite_cuvant(cuvant, delay=1):\n",
    "    for litera in cuvant:\n",
    "        browser.find_element(By.XPATH, \"/html/body\").send_keys(litera)\n",
    "        time.sleep(delay)\n",
    "    browser.find_element(By.XPATH, \"/html/body\").send_keys(Keys.ENTER)\n",
    "    time.sleep(6)\n",
    "\n",
    "cuvinte = [\"audio\", \"stern\", \"glyph\"]\n",
    "\n",
    "for cuv in cuvinte:\n",
    "    trimite_cuvant(cuv)"
   ]
  }
 ],
 "metadata": {
  "kernelspec": {
   "display_name": "Python 3",
   "language": "python",
   "name": "python3"
  },
  "language_info": {
   "codemirror_mode": {
    "name": "ipython",
    "version": 3
   },
   "file_extension": ".py",
   "mimetype": "text/x-python",
   "name": "python",
   "nbconvert_exporter": "python",
   "pygments_lexer": "ipython3",
   "version": "3.13.3"
  }
 },
 "nbformat": 4,
 "nbformat_minor": 2
}
